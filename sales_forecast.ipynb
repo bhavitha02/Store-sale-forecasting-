{
 "cells": [
  {
   "cell_type": "markdown",
   "id": "abb0fb38-2572-4a02-b4de-d08f233a7edb",
   "metadata": {},
   "source": [
    "1. Analyze a real data set from a data set that is publicly available, using techniques from class or closely related techniques.\n",
    "\n",
    "   why Random Forest:\n",
    "       1. It can handle missing values\n",
    "       2. Categorical values don't have to be converted into 1-hot encoded features\n",
    "       \n",
    "– how to use a package or library for model estimation (Methodology)\n",
    "  Used scikit-learn Linear Regression Model - https://scikit-learn.org/stable/modules/generated/sklearn.linear_model.LinearRegression.html\n"
   ]
  },
  {
   "cell_type": "code",
   "execution_count": 2,
   "id": "42dd39d6-c9c6-4ff8-94f0-2fd1e8e465b1",
   "metadata": {},
   "outputs": [],
   "source": [
    "# Importing Libraries\n",
    "\n",
    "import pandas as pd\n",
    "import numpy as np\n",
    "import matplotlib.pyplot as plt\n",
    "import seaborn as sns\n",
    "import warnings\n",
    "import plotly.express as px\n",
    "\n",
    "# Handling Warnings\n",
    "warnings.filterwarnings('ignore')\n",
    "\n",
    "# Importing Data \n",
    "\n",
    "transaction_data = pd.read_csv(\"transactions.csv\")\n",
    "transaction_data['date'] = pd.to_datetime(transaction_data['date'], format = \"%Y-%m-%d\")\n",
    "oil_data = pd.read_csv(\"oil.csv\")\n",
    "oil_data['date'] = pd.to_datetime(oil_data['date'], format = \"%Y-%m-%d\")\n",
    "store_data = pd.read_csv(\"stores.csv\")\n",
    "holiday_data = pd.read_csv(\"holidays_events.csv\")\n",
    "holiday_data['date'] = pd.to_datetime(holiday_data['date'], format = \"%Y-%m-%d\")\n",
    "data = pd.read_csv(\"train.csv\")\n",
    "data['date'] = pd.to_datetime(data['date'], format = \"%Y-%m-%d\")\n"
   ]
  },
  {
   "cell_type": "code",
   "execution_count": 3,
   "id": "cdc9f0b9-4fc0-42a6-b4e5-d6d009a879b2",
   "metadata": {
    "tags": []
   },
   "outputs": [
    {
     "data": {
      "text/html": [
       "<div>\n",
       "<style scoped>\n",
       "    .dataframe tbody tr th:only-of-type {\n",
       "        vertical-align: middle;\n",
       "    }\n",
       "\n",
       "    .dataframe tbody tr th {\n",
       "        vertical-align: top;\n",
       "    }\n",
       "\n",
       "    .dataframe thead th {\n",
       "        text-align: right;\n",
       "    }\n",
       "</style>\n",
       "<table border=\"1\" class=\"dataframe\">\n",
       "  <thead>\n",
       "    <tr style=\"text-align: right;\">\n",
       "      <th></th>\n",
       "      <th>date</th>\n",
       "      <th>dcoilwtico</th>\n",
       "    </tr>\n",
       "  </thead>\n",
       "  <tbody>\n",
       "    <tr>\n",
       "      <th>0</th>\n",
       "      <td>2013-01-01</td>\n",
       "      <td>93.14</td>\n",
       "    </tr>\n",
       "    <tr>\n",
       "      <th>1</th>\n",
       "      <td>2013-01-02</td>\n",
       "      <td>93.14</td>\n",
       "    </tr>\n",
       "    <tr>\n",
       "      <th>2</th>\n",
       "      <td>2013-01-03</td>\n",
       "      <td>92.97</td>\n",
       "    </tr>\n",
       "    <tr>\n",
       "      <th>3</th>\n",
       "      <td>2013-01-04</td>\n",
       "      <td>93.12</td>\n",
       "    </tr>\n",
       "    <tr>\n",
       "      <th>4</th>\n",
       "      <td>2013-01-05</td>\n",
       "      <td>93.12</td>\n",
       "    </tr>\n",
       "  </tbody>\n",
       "</table>\n",
       "</div>"
      ],
      "text/plain": [
       "        date  dcoilwtico\n",
       "0 2013-01-01       93.14\n",
       "1 2013-01-02       93.14\n",
       "2 2013-01-03       92.97\n",
       "3 2013-01-04       93.12\n",
       "4 2013-01-05       93.12"
      ]
     },
     "execution_count": 3,
     "metadata": {},
     "output_type": "execute_result"
    }
   ],
   "source": [
    "import pandas as pd\n",
    "\n",
    "# Set your minimum and maximum dates\n",
    "min_date = oil_data.date.min()\n",
    "max_date = oil_data.date.max()\n",
    "\n",
    "# Generate a range of dates between min and max dates\n",
    "date_range = pd.date_range(start=min_date, end=max_date, freq='D')\n",
    "\n",
    "# Create a DataFrame with the dates\n",
    "full_oil_data = pd.DataFrame({'date': date_range})\n",
    "\n",
    "\n",
    "\n",
    "full_oil_data = pd.merge(full_oil_data, oil_data, on='date', how='left')\n",
    "\n",
    "# intepolate the dcoilwitco oilprices column\n",
    "full_oil_data['dcoilwtico'] = full_oil_data['dcoilwtico'].interpolate(method='nearest')\n",
    "\n",
    "full_oil_data.loc[0,'dcoilwtico'] = 93.14\n",
    "\n",
    "full_oil_data.head()"
   ]
  },
  {
   "cell_type": "code",
   "execution_count": 4,
   "id": "4da54a1e-cbfb-4d0b-a8ea-349a68f25b39",
   "metadata": {
    "tags": []
   },
   "outputs": [],
   "source": [
    "# data.store_nbr.nunique() # 54\n",
    "# data.date.min(), data.date.max() # Timestamp('2013-01-01 00:00:00'), Timestamp('2017-08-15 00:00:00')"
   ]
  },
  {
   "cell_type": "code",
   "execution_count": 5,
   "id": "ff2cdde7-d79d-4762-858a-835a9f0c3d52",
   "metadata": {
    "tags": []
   },
   "outputs": [],
   "source": [
    "from sklearn.linear_model import LinearRegression"
   ]
  },
  {
   "cell_type": "code",
   "execution_count": 6,
   "id": "54ad5d6f-b72e-4e55-8d31-f40e4c939ff9",
   "metadata": {},
   "outputs": [],
   "source": [
    "# model = LinearRegression()\n",
    "# model.fit(X_train, y_train)\n",
    "# y_test_preds = model.predict(X_test)"
   ]
  },
  {
   "cell_type": "code",
   "execution_count": 7,
   "id": "0400ce9d-aff3-4674-95de-48eda0608898",
   "metadata": {
    "tags": []
   },
   "outputs": [
    {
     "data": {
      "text/html": [
       "<div>\n",
       "<style scoped>\n",
       "    .dataframe tbody tr th:only-of-type {\n",
       "        vertical-align: middle;\n",
       "    }\n",
       "\n",
       "    .dataframe tbody tr th {\n",
       "        vertical-align: top;\n",
       "    }\n",
       "\n",
       "    .dataframe thead th {\n",
       "        text-align: right;\n",
       "    }\n",
       "</style>\n",
       "<table border=\"1\" class=\"dataframe\">\n",
       "  <thead>\n",
       "    <tr style=\"text-align: right;\">\n",
       "      <th></th>\n",
       "      <th>date</th>\n",
       "      <th>store_nbr</th>\n",
       "      <th>transactions</th>\n",
       "    </tr>\n",
       "  </thead>\n",
       "  <tbody>\n",
       "    <tr>\n",
       "      <th>0</th>\n",
       "      <td>2013-01-01</td>\n",
       "      <td>25</td>\n",
       "      <td>770</td>\n",
       "    </tr>\n",
       "    <tr>\n",
       "      <th>1</th>\n",
       "      <td>2013-01-02</td>\n",
       "      <td>1</td>\n",
       "      <td>2111</td>\n",
       "    </tr>\n",
       "    <tr>\n",
       "      <th>2</th>\n",
       "      <td>2013-01-02</td>\n",
       "      <td>2</td>\n",
       "      <td>2358</td>\n",
       "    </tr>\n",
       "    <tr>\n",
       "      <th>3</th>\n",
       "      <td>2013-01-02</td>\n",
       "      <td>3</td>\n",
       "      <td>3487</td>\n",
       "    </tr>\n",
       "    <tr>\n",
       "      <th>4</th>\n",
       "      <td>2013-01-02</td>\n",
       "      <td>4</td>\n",
       "      <td>1922</td>\n",
       "    </tr>\n",
       "  </tbody>\n",
       "</table>\n",
       "</div>"
      ],
      "text/plain": [
       "        date  store_nbr  transactions\n",
       "0 2013-01-01         25           770\n",
       "1 2013-01-02          1          2111\n",
       "2 2013-01-02          2          2358\n",
       "3 2013-01-02          3          3487\n",
       "4 2013-01-02          4          1922"
      ]
     },
     "execution_count": 7,
     "metadata": {},
     "output_type": "execute_result"
    }
   ],
   "source": [
    "transaction_data.head()"
   ]
  },
  {
   "cell_type": "code",
   "execution_count": 8,
   "id": "e7148e3e-97c6-49c5-bfb8-f00b1d12125d",
   "metadata": {
    "tags": []
   },
   "outputs": [
    {
     "data": {
      "text/html": [
       "<div>\n",
       "<style scoped>\n",
       "    .dataframe tbody tr th:only-of-type {\n",
       "        vertical-align: middle;\n",
       "    }\n",
       "\n",
       "    .dataframe tbody tr th {\n",
       "        vertical-align: top;\n",
       "    }\n",
       "\n",
       "    .dataframe thead th {\n",
       "        text-align: right;\n",
       "    }\n",
       "</style>\n",
       "<table border=\"1\" class=\"dataframe\">\n",
       "  <thead>\n",
       "    <tr style=\"text-align: right;\">\n",
       "      <th></th>\n",
       "      <th>date</th>\n",
       "      <th>dcoilwtico</th>\n",
       "    </tr>\n",
       "  </thead>\n",
       "  <tbody>\n",
       "    <tr>\n",
       "      <th>0</th>\n",
       "      <td>2013-01-01</td>\n",
       "      <td>NaN</td>\n",
       "    </tr>\n",
       "    <tr>\n",
       "      <th>1</th>\n",
       "      <td>2013-01-02</td>\n",
       "      <td>93.14</td>\n",
       "    </tr>\n",
       "    <tr>\n",
       "      <th>2</th>\n",
       "      <td>2013-01-03</td>\n",
       "      <td>92.97</td>\n",
       "    </tr>\n",
       "    <tr>\n",
       "      <th>3</th>\n",
       "      <td>2013-01-04</td>\n",
       "      <td>93.12</td>\n",
       "    </tr>\n",
       "    <tr>\n",
       "      <th>4</th>\n",
       "      <td>2013-01-07</td>\n",
       "      <td>93.20</td>\n",
       "    </tr>\n",
       "  </tbody>\n",
       "</table>\n",
       "</div>"
      ],
      "text/plain": [
       "        date  dcoilwtico\n",
       "0 2013-01-01         NaN\n",
       "1 2013-01-02       93.14\n",
       "2 2013-01-03       92.97\n",
       "3 2013-01-04       93.12\n",
       "4 2013-01-07       93.20"
      ]
     },
     "execution_count": 8,
     "metadata": {},
     "output_type": "execute_result"
    }
   ],
   "source": [
    "oil_data.head()"
   ]
  },
  {
   "cell_type": "code",
   "execution_count": 9,
   "id": "9a737f38-1c2d-4579-9794-55eb0d6a780f",
   "metadata": {
    "tags": []
   },
   "outputs": [
    {
     "data": {
      "text/html": [
       "<div>\n",
       "<style scoped>\n",
       "    .dataframe tbody tr th:only-of-type {\n",
       "        vertical-align: middle;\n",
       "    }\n",
       "\n",
       "    .dataframe tbody tr th {\n",
       "        vertical-align: top;\n",
       "    }\n",
       "\n",
       "    .dataframe thead th {\n",
       "        text-align: right;\n",
       "    }\n",
       "</style>\n",
       "<table border=\"1\" class=\"dataframe\">\n",
       "  <thead>\n",
       "    <tr style=\"text-align: right;\">\n",
       "      <th></th>\n",
       "      <th>store_nbr</th>\n",
       "      <th>city</th>\n",
       "      <th>state</th>\n",
       "      <th>type</th>\n",
       "      <th>cluster</th>\n",
       "    </tr>\n",
       "  </thead>\n",
       "  <tbody>\n",
       "    <tr>\n",
       "      <th>0</th>\n",
       "      <td>1</td>\n",
       "      <td>Quito</td>\n",
       "      <td>Pichincha</td>\n",
       "      <td>D</td>\n",
       "      <td>13</td>\n",
       "    </tr>\n",
       "    <tr>\n",
       "      <th>1</th>\n",
       "      <td>2</td>\n",
       "      <td>Quito</td>\n",
       "      <td>Pichincha</td>\n",
       "      <td>D</td>\n",
       "      <td>13</td>\n",
       "    </tr>\n",
       "    <tr>\n",
       "      <th>2</th>\n",
       "      <td>3</td>\n",
       "      <td>Quito</td>\n",
       "      <td>Pichincha</td>\n",
       "      <td>D</td>\n",
       "      <td>8</td>\n",
       "    </tr>\n",
       "    <tr>\n",
       "      <th>3</th>\n",
       "      <td>4</td>\n",
       "      <td>Quito</td>\n",
       "      <td>Pichincha</td>\n",
       "      <td>D</td>\n",
       "      <td>9</td>\n",
       "    </tr>\n",
       "    <tr>\n",
       "      <th>4</th>\n",
       "      <td>5</td>\n",
       "      <td>Santo Domingo</td>\n",
       "      <td>Santo Domingo de los Tsachilas</td>\n",
       "      <td>D</td>\n",
       "      <td>4</td>\n",
       "    </tr>\n",
       "  </tbody>\n",
       "</table>\n",
       "</div>"
      ],
      "text/plain": [
       "   store_nbr           city                           state type  cluster\n",
       "0          1          Quito                       Pichincha    D       13\n",
       "1          2          Quito                       Pichincha    D       13\n",
       "2          3          Quito                       Pichincha    D        8\n",
       "3          4          Quito                       Pichincha    D        9\n",
       "4          5  Santo Domingo  Santo Domingo de los Tsachilas    D        4"
      ]
     },
     "execution_count": 9,
     "metadata": {},
     "output_type": "execute_result"
    }
   ],
   "source": [
    "store_data.head()"
   ]
  },
  {
   "cell_type": "code",
   "execution_count": 10,
   "id": "d7c40466-b26e-4f85-b46d-a4ff3a72c775",
   "metadata": {
    "tags": []
   },
   "outputs": [],
   "source": [
    "s1 = set(store_data.city.unique())"
   ]
  },
  {
   "cell_type": "code",
   "execution_count": 11,
   "id": "0df2efcc-7689-489c-a540-e94fd3d9478b",
   "metadata": {
    "tags": []
   },
   "outputs": [],
   "source": [
    "s2 = set(holiday_data.locale_name.unique())"
   ]
  },
  {
   "cell_type": "code",
   "execution_count": 12,
   "id": "eb101888-f3fe-457a-9957-3264893914d0",
   "metadata": {
    "tags": []
   },
   "outputs": [
    {
     "data": {
      "text/plain": [
       "({'Babahoyo', 'Daule', 'Playas'},\n",
       " {'Cotopaxi',\n",
       "  'Ecuador',\n",
       "  'Imbabura',\n",
       "  'Santa Elena',\n",
       "  'Santo Domingo de los Tsachilas'})"
      ]
     },
     "execution_count": 12,
     "metadata": {},
     "output_type": "execute_result"
    }
   ],
   "source": [
    "s1 - s2, s2 - s1"
   ]
  },
  {
   "cell_type": "code",
   "execution_count": 13,
   "id": "90d0c02d-f6ba-4052-8a73-381d24006b05",
   "metadata": {
    "tags": []
   },
   "outputs": [
    {
     "data": {
      "text/html": [
       "<div>\n",
       "<style scoped>\n",
       "    .dataframe tbody tr th:only-of-type {\n",
       "        vertical-align: middle;\n",
       "    }\n",
       "\n",
       "    .dataframe tbody tr th {\n",
       "        vertical-align: top;\n",
       "    }\n",
       "\n",
       "    .dataframe thead th {\n",
       "        text-align: right;\n",
       "    }\n",
       "</style>\n",
       "<table border=\"1\" class=\"dataframe\">\n",
       "  <thead>\n",
       "    <tr style=\"text-align: right;\">\n",
       "      <th></th>\n",
       "      <th>date</th>\n",
       "      <th>is_national_holiday</th>\n",
       "    </tr>\n",
       "  </thead>\n",
       "  <tbody>\n",
       "    <tr>\n",
       "      <th>0</th>\n",
       "      <td>2012-08-10</td>\n",
       "      <td>1</td>\n",
       "    </tr>\n",
       "    <tr>\n",
       "      <th>1</th>\n",
       "      <td>2012-10-09</td>\n",
       "      <td>1</td>\n",
       "    </tr>\n",
       "    <tr>\n",
       "      <th>2</th>\n",
       "      <td>2012-10-12</td>\n",
       "      <td>1</td>\n",
       "    </tr>\n",
       "    <tr>\n",
       "      <th>3</th>\n",
       "      <td>2012-11-02</td>\n",
       "      <td>1</td>\n",
       "    </tr>\n",
       "    <tr>\n",
       "      <th>4</th>\n",
       "      <td>2012-11-03</td>\n",
       "      <td>1</td>\n",
       "    </tr>\n",
       "  </tbody>\n",
       "</table>\n",
       "</div>"
      ],
      "text/plain": [
       "        date  is_national_holiday\n",
       "0 2012-08-10                    1\n",
       "1 2012-10-09                    1\n",
       "2 2012-10-12                    1\n",
       "3 2012-11-02                    1\n",
       "4 2012-11-03                    1"
      ]
     },
     "execution_count": 13,
     "metadata": {},
     "output_type": "execute_result"
    }
   ],
   "source": [
    "national_holidays = holiday_data.loc[holiday_data.locale_name==\"Ecuador\"]\n",
    "national_holidays = pd.DataFrame({'date':national_holidays.date.unique(), 'is_national_holiday' : 1})\n",
    "national_holidays.head()"
   ]
  },
  {
   "cell_type": "code",
   "execution_count": 14,
   "id": "f2a27929-499e-4c3d-87aa-0549005a6e59",
   "metadata": {
    "tags": []
   },
   "outputs": [],
   "source": [
    "local_holidays = holiday_data.loc[holiday_data.locale_name!=\"Ecuador\"]\n",
    "local_holidays = local_holidays[['date', 'locale_name']].drop_duplicates()\n",
    "local_holidays['is_local_holiday'] = 1"
   ]
  },
  {
   "cell_type": "code",
   "execution_count": 15,
   "id": "8780d871-f220-4f52-8c5f-c6d0d74785d6",
   "metadata": {
    "tags": []
   },
   "outputs": [
    {
     "data": {
      "text/html": [
       "<div>\n",
       "<style scoped>\n",
       "    .dataframe tbody tr th:only-of-type {\n",
       "        vertical-align: middle;\n",
       "    }\n",
       "\n",
       "    .dataframe tbody tr th {\n",
       "        vertical-align: top;\n",
       "    }\n",
       "\n",
       "    .dataframe thead th {\n",
       "        text-align: right;\n",
       "    }\n",
       "</style>\n",
       "<table border=\"1\" class=\"dataframe\">\n",
       "  <thead>\n",
       "    <tr style=\"text-align: right;\">\n",
       "      <th></th>\n",
       "      <th>date</th>\n",
       "      <th>locale_name</th>\n",
       "      <th>is_local_holiday</th>\n",
       "    </tr>\n",
       "  </thead>\n",
       "  <tbody>\n",
       "    <tr>\n",
       "      <th>0</th>\n",
       "      <td>2012-03-02</td>\n",
       "      <td>Manta</td>\n",
       "      <td>1</td>\n",
       "    </tr>\n",
       "    <tr>\n",
       "      <th>1</th>\n",
       "      <td>2012-04-01</td>\n",
       "      <td>Cotopaxi</td>\n",
       "      <td>1</td>\n",
       "    </tr>\n",
       "    <tr>\n",
       "      <th>2</th>\n",
       "      <td>2012-04-12</td>\n",
       "      <td>Cuenca</td>\n",
       "      <td>1</td>\n",
       "    </tr>\n",
       "    <tr>\n",
       "      <th>3</th>\n",
       "      <td>2012-04-14</td>\n",
       "      <td>Libertad</td>\n",
       "      <td>1</td>\n",
       "    </tr>\n",
       "    <tr>\n",
       "      <th>4</th>\n",
       "      <td>2012-04-21</td>\n",
       "      <td>Riobamba</td>\n",
       "      <td>1</td>\n",
       "    </tr>\n",
       "  </tbody>\n",
       "</table>\n",
       "</div>"
      ],
      "text/plain": [
       "        date locale_name  is_local_holiday\n",
       "0 2012-03-02       Manta                 1\n",
       "1 2012-04-01    Cotopaxi                 1\n",
       "2 2012-04-12      Cuenca                 1\n",
       "3 2012-04-14    Libertad                 1\n",
       "4 2012-04-21    Riobamba                 1"
      ]
     },
     "execution_count": 15,
     "metadata": {},
     "output_type": "execute_result"
    }
   ],
   "source": [
    "local_holidays.head()"
   ]
  },
  {
   "cell_type": "code",
   "execution_count": 16,
   "id": "286c05ba-dc43-4784-9bfe-c89cedbbf33c",
   "metadata": {
    "tags": []
   },
   "outputs": [
    {
     "data": {
      "text/plain": [
       "array(['Holiday', 'Transfer', 'Additional', 'Bridge', 'Work Day', 'Event'],\n",
       "      dtype=object)"
      ]
     },
     "execution_count": 16,
     "metadata": {},
     "output_type": "execute_result"
    }
   ],
   "source": [
    "holiday_data.type.unique()"
   ]
  },
  {
   "cell_type": "code",
   "execution_count": 17,
   "id": "a5c043e1-4fd6-488e-b89a-1e78ef1f15b9",
   "metadata": {
    "tags": []
   },
   "outputs": [
    {
     "name": "stdout",
     "output_type": "stream",
     "text": [
      "(3000888, 6)\n",
      "(3000888, 7)\n",
      "(3000888, 8)\n",
      "(3000888, 12)\n"
     ]
    }
   ],
   "source": [
    "print(data.shape)\n",
    "data = pd.merge(data, transaction_data, how='left', on =['date', 'store_nbr'])\n",
    "print(data.shape)\n",
    "data = pd.merge(data, full_oil_data, how='left', on =['date'])\n",
    "print(data.shape)\n",
    "data = pd.merge(data, store_data, how='left', on =['store_nbr'])\n",
    "print(data.shape)"
   ]
  },
  {
   "cell_type": "code",
   "execution_count": 18,
   "id": "84f03f51-f6b5-4d65-a590-b76762b91c25",
   "metadata": {
    "tags": []
   },
   "outputs": [
    {
     "name": "stdout",
     "output_type": "stream",
     "text": [
      "(3000888, 12)\n",
      "(3000888, 13)\n"
     ]
    }
   ],
   "source": [
    "print(data.shape)\n",
    "data = pd.merge(data, national_holidays, how='left', on=['date'])\n",
    "print(data.shape)"
   ]
  },
  {
   "cell_type": "code",
   "execution_count": 19,
   "id": "2ceace38-6651-496b-89a2-a72929f1ea72",
   "metadata": {
    "tags": []
   },
   "outputs": [
    {
     "data": {
      "text/plain": [
       "Quito            1000296\n",
       "Guayaquil         444576\n",
       "Santo Domingo     166716\n",
       "Cuenca            166716\n",
       "Latacunga         111144\n",
       "Manta             111144\n",
       "Machala           111144\n",
       "Ambato            111144\n",
       "Quevedo            55572\n",
       "Esmeraldas         55572\n",
       "Loja               55572\n",
       "Libertad           55572\n",
       "Playas             55572\n",
       "Daule              55572\n",
       "Babahoyo           55572\n",
       "Cayambe            55572\n",
       "Salinas            55572\n",
       "Puyo               55572\n",
       "Guaranda           55572\n",
       "Ibarra             55572\n",
       "Riobamba           55572\n",
       "El Carmen          55572\n",
       "Name: city, dtype: int64"
      ]
     },
     "execution_count": 19,
     "metadata": {},
     "output_type": "execute_result"
    }
   ],
   "source": [
    "data.city.value_counts()"
   ]
  },
  {
   "cell_type": "code",
   "execution_count": 20,
   "id": "20f15e23-b44c-41ea-b979-b134d67251fc",
   "metadata": {},
   "outputs": [],
   "source": [
    "# {'Babahoyo', 'Daule', 'Playas'} in data but not in holidays"
   ]
  },
  {
   "cell_type": "code",
   "execution_count": 21,
   "id": "65bbfe41-4328-4ad9-be7b-99f9be6baa4f",
   "metadata": {
    "tags": []
   },
   "outputs": [
    {
     "name": "stdout",
     "output_type": "stream",
     "text": [
      "(3000888, 15)\n"
     ]
    }
   ],
   "source": [
    "data = pd.merge(data, local_holidays, how='left', left_on=['date', 'city'], right_on=['date', 'locale_name'])\n",
    "print(data.shape)"
   ]
  },
  {
   "cell_type": "code",
   "execution_count": 22,
   "id": "efddce18-6e47-406b-80b7-ef06844c3c16",
   "metadata": {
    "tags": []
   },
   "outputs": [],
   "source": [
    "data.is_national_holiday = data.is_national_holiday.fillna(0)\n",
    "data.is_local_holiday = data.is_local_holiday.fillna(0)\n",
    "\n",
    "data.locale_name = data.locale_name.fillna(\"NA\")"
   ]
  },
  {
   "cell_type": "code",
   "execution_count": 23,
   "id": "dcfd8249-4424-4404-af29-5164e49a5dba",
   "metadata": {
    "tags": []
   },
   "outputs": [
    {
     "data": {
      "text/html": [
       "<div>\n",
       "<style scoped>\n",
       "    .dataframe tbody tr th:only-of-type {\n",
       "        vertical-align: middle;\n",
       "    }\n",
       "\n",
       "    .dataframe tbody tr th {\n",
       "        vertical-align: top;\n",
       "    }\n",
       "\n",
       "    .dataframe thead th {\n",
       "        text-align: right;\n",
       "    }\n",
       "</style>\n",
       "<table border=\"1\" class=\"dataframe\">\n",
       "  <thead>\n",
       "    <tr style=\"text-align: right;\">\n",
       "      <th></th>\n",
       "      <th>id</th>\n",
       "      <th>date</th>\n",
       "      <th>store_nbr</th>\n",
       "      <th>family</th>\n",
       "      <th>sales</th>\n",
       "      <th>onpromotion</th>\n",
       "      <th>transactions</th>\n",
       "      <th>dcoilwtico</th>\n",
       "      <th>city</th>\n",
       "      <th>state</th>\n",
       "      <th>type</th>\n",
       "      <th>cluster</th>\n",
       "      <th>is_national_holiday</th>\n",
       "      <th>locale_name</th>\n",
       "      <th>is_local_holiday</th>\n",
       "    </tr>\n",
       "  </thead>\n",
       "  <tbody>\n",
       "    <tr>\n",
       "      <th>0</th>\n",
       "      <td>0</td>\n",
       "      <td>2013-01-01</td>\n",
       "      <td>1</td>\n",
       "      <td>AUTOMOTIVE</td>\n",
       "      <td>0.0</td>\n",
       "      <td>0</td>\n",
       "      <td>NaN</td>\n",
       "      <td>93.14</td>\n",
       "      <td>Quito</td>\n",
       "      <td>Pichincha</td>\n",
       "      <td>D</td>\n",
       "      <td>13</td>\n",
       "      <td>1.0</td>\n",
       "      <td>NA</td>\n",
       "      <td>0.0</td>\n",
       "    </tr>\n",
       "    <tr>\n",
       "      <th>1</th>\n",
       "      <td>1</td>\n",
       "      <td>2013-01-01</td>\n",
       "      <td>1</td>\n",
       "      <td>BABY CARE</td>\n",
       "      <td>0.0</td>\n",
       "      <td>0</td>\n",
       "      <td>NaN</td>\n",
       "      <td>93.14</td>\n",
       "      <td>Quito</td>\n",
       "      <td>Pichincha</td>\n",
       "      <td>D</td>\n",
       "      <td>13</td>\n",
       "      <td>1.0</td>\n",
       "      <td>NA</td>\n",
       "      <td>0.0</td>\n",
       "    </tr>\n",
       "    <tr>\n",
       "      <th>2</th>\n",
       "      <td>2</td>\n",
       "      <td>2013-01-01</td>\n",
       "      <td>1</td>\n",
       "      <td>BEAUTY</td>\n",
       "      <td>0.0</td>\n",
       "      <td>0</td>\n",
       "      <td>NaN</td>\n",
       "      <td>93.14</td>\n",
       "      <td>Quito</td>\n",
       "      <td>Pichincha</td>\n",
       "      <td>D</td>\n",
       "      <td>13</td>\n",
       "      <td>1.0</td>\n",
       "      <td>NA</td>\n",
       "      <td>0.0</td>\n",
       "    </tr>\n",
       "    <tr>\n",
       "      <th>3</th>\n",
       "      <td>3</td>\n",
       "      <td>2013-01-01</td>\n",
       "      <td>1</td>\n",
       "      <td>BEVERAGES</td>\n",
       "      <td>0.0</td>\n",
       "      <td>0</td>\n",
       "      <td>NaN</td>\n",
       "      <td>93.14</td>\n",
       "      <td>Quito</td>\n",
       "      <td>Pichincha</td>\n",
       "      <td>D</td>\n",
       "      <td>13</td>\n",
       "      <td>1.0</td>\n",
       "      <td>NA</td>\n",
       "      <td>0.0</td>\n",
       "    </tr>\n",
       "    <tr>\n",
       "      <th>4</th>\n",
       "      <td>4</td>\n",
       "      <td>2013-01-01</td>\n",
       "      <td>1</td>\n",
       "      <td>BOOKS</td>\n",
       "      <td>0.0</td>\n",
       "      <td>0</td>\n",
       "      <td>NaN</td>\n",
       "      <td>93.14</td>\n",
       "      <td>Quito</td>\n",
       "      <td>Pichincha</td>\n",
       "      <td>D</td>\n",
       "      <td>13</td>\n",
       "      <td>1.0</td>\n",
       "      <td>NA</td>\n",
       "      <td>0.0</td>\n",
       "    </tr>\n",
       "  </tbody>\n",
       "</table>\n",
       "</div>"
      ],
      "text/plain": [
       "   id       date  store_nbr      family  sales  onpromotion  transactions  \\\n",
       "0   0 2013-01-01          1  AUTOMOTIVE    0.0            0           NaN   \n",
       "1   1 2013-01-01          1   BABY CARE    0.0            0           NaN   \n",
       "2   2 2013-01-01          1      BEAUTY    0.0            0           NaN   \n",
       "3   3 2013-01-01          1   BEVERAGES    0.0            0           NaN   \n",
       "4   4 2013-01-01          1       BOOKS    0.0            0           NaN   \n",
       "\n",
       "   dcoilwtico   city      state type  cluster  is_national_holiday  \\\n",
       "0       93.14  Quito  Pichincha    D       13                  1.0   \n",
       "1       93.14  Quito  Pichincha    D       13                  1.0   \n",
       "2       93.14  Quito  Pichincha    D       13                  1.0   \n",
       "3       93.14  Quito  Pichincha    D       13                  1.0   \n",
       "4       93.14  Quito  Pichincha    D       13                  1.0   \n",
       "\n",
       "  locale_name  is_local_holiday  \n",
       "0          NA               0.0  \n",
       "1          NA               0.0  \n",
       "2          NA               0.0  \n",
       "3          NA               0.0  \n",
       "4          NA               0.0  "
      ]
     },
     "execution_count": 23,
     "metadata": {},
     "output_type": "execute_result"
    }
   ],
   "source": [
    "data.head()"
   ]
  },
  {
   "cell_type": "code",
   "execution_count": 24,
   "id": "aed2772c-5247-4401-9aeb-49b3b532d33f",
   "metadata": {
    "tags": []
   },
   "outputs": [
    {
     "data": {
      "image/png": "[encoded data removed]",
      "text/plain": [
       "<Figure size 640x480 with 1 Axes>"
      ]
     },
     "metadata": {},
     "output_type": "display_data"
    }
   ],
   "source": [
    "_ = plt.boxplot(data.sales, showfliers=False)"
   ]
  },
  {
   "cell_type": "code",
   "execution_count": 25,
   "id": "70a9771e-5361-4efe-a60c-30711de7d843",
   "metadata": {},
   "outputs": [],
   "source": [
    "# data.date.min(), data.date.max() # Timestamp('2013-01-01 00:00:00'), Timestamp('2017-08-15 00:00:00')"
   ]
  },
  {
   "cell_type": "code",
   "execution_count": 26,
   "id": "0de7ea42-4ec6-416f-95d8-66bb3fa69e0e",
   "metadata": {
    "tags": []
   },
   "outputs": [],
   "source": [
    "split_date = \"2017-01-01\""
   ]
  },
  {
   "cell_type": "code",
   "execution_count": 27,
   "id": "1d68ce7d-2db9-49ac-a283-119f5dc82f20",
   "metadata": {
    "tags": []
   },
   "outputs": [],
   "source": [
    "data.transactions = data.transactions.fillna(0)"
   ]
  },
  {
   "cell_type": "code",
   "execution_count": 92,
   "id": "aa9b7a06-e24b-46e9-bf7b-4cca19d90d87",
   "metadata": {
    "tags": []
   },
   "outputs": [],
   "source": [
    "data['is_oil_high'] = data['dcoilwtico'].apply(lambda x: 1 if x>70 else 0)"
   ]
  },
  {
   "cell_type": "code",
   "execution_count": 93,
   "id": "66d7c6fb-dd7f-492c-9c3e-a8d5e15f33ad",
   "metadata": {
    "tags": []
   },
   "outputs": [
    {
     "name": "stdout",
     "output_type": "stream",
     "text": [
      "(2596374, 16) (404514, 16)\n"
     ]
    }
   ],
   "source": [
    "train = data.loc[data.date < split_date]\n",
    "test = data.loc[data.date >= split_date]\n",
    "print(train.shape, test.shape)"
   ]
  },
  {
   "cell_type": "code",
   "execution_count": 94,
   "id": "c00dfc16-bfe8-484c-bb56-ab5ff44e63f6",
   "metadata": {
    "tags": []
   },
   "outputs": [
    {
     "data": {
      "text/plain": [
       "True"
      ]
     },
     "execution_count": 94,
     "metadata": {},
     "output_type": "execute_result"
    }
   ],
   "source": [
    "train.shape[0]  + test.shape[0] == data.shape[0]"
   ]
  },
  {
   "cell_type": "code",
   "execution_count": 95,
   "id": "81e0ddda-e88b-4123-bb09-cb83fa424dc4",
   "metadata": {
    "tags": []
   },
   "outputs": [
    {
     "data": {
      "text/html": [
       "<div>\n",
       "<style scoped>\n",
       "    .dataframe tbody tr th:only-of-type {\n",
       "        vertical-align: middle;\n",
       "    }\n",
       "\n",
       "    .dataframe tbody tr th {\n",
       "        vertical-align: top;\n",
       "    }\n",
       "\n",
       "    .dataframe thead th {\n",
       "        text-align: right;\n",
       "    }\n",
       "</style>\n",
       "<table border=\"1\" class=\"dataframe\">\n",
       "  <thead>\n",
       "    <tr style=\"text-align: right;\">\n",
       "      <th></th>\n",
       "      <th>id</th>\n",
       "      <th>date</th>\n",
       "      <th>store_nbr</th>\n",
       "      <th>family</th>\n",
       "      <th>sales</th>\n",
       "      <th>onpromotion</th>\n",
       "      <th>transactions</th>\n",
       "      <th>dcoilwtico</th>\n",
       "      <th>city</th>\n",
       "      <th>state</th>\n",
       "      <th>type</th>\n",
       "      <th>cluster</th>\n",
       "      <th>is_national_holiday</th>\n",
       "      <th>locale_name</th>\n",
       "      <th>is_local_holiday</th>\n",
       "      <th>is_oil_high</th>\n",
       "    </tr>\n",
       "  </thead>\n",
       "  <tbody>\n",
       "    <tr>\n",
       "      <th>0</th>\n",
       "      <td>0</td>\n",
       "      <td>2013-01-01</td>\n",
       "      <td>1</td>\n",
       "      <td>AUTOMOTIVE</td>\n",
       "      <td>0.0</td>\n",
       "      <td>0</td>\n",
       "      <td>0.0</td>\n",
       "      <td>93.14</td>\n",
       "      <td>Quito</td>\n",
       "      <td>Pichincha</td>\n",
       "      <td>D</td>\n",
       "      <td>13</td>\n",
       "      <td>1.0</td>\n",
       "      <td>NA</td>\n",
       "      <td>0.0</td>\n",
       "      <td>1</td>\n",
       "    </tr>\n",
       "    <tr>\n",
       "      <th>1</th>\n",
       "      <td>1</td>\n",
       "      <td>2013-01-01</td>\n",
       "      <td>1</td>\n",
       "      <td>BABY CARE</td>\n",
       "      <td>0.0</td>\n",
       "      <td>0</td>\n",
       "      <td>0.0</td>\n",
       "      <td>93.14</td>\n",
       "      <td>Quito</td>\n",
       "      <td>Pichincha</td>\n",
       "      <td>D</td>\n",
       "      <td>13</td>\n",
       "      <td>1.0</td>\n",
       "      <td>NA</td>\n",
       "      <td>0.0</td>\n",
       "      <td>1</td>\n",
       "    </tr>\n",
       "    <tr>\n",
       "      <th>2</th>\n",
       "      <td>2</td>\n",
       "      <td>2013-01-01</td>\n",
       "      <td>1</td>\n",
       "      <td>BEAUTY</td>\n",
       "      <td>0.0</td>\n",
       "      <td>0</td>\n",
       "      <td>0.0</td>\n",
       "      <td>93.14</td>\n",
       "      <td>Quito</td>\n",
       "      <td>Pichincha</td>\n",
       "      <td>D</td>\n",
       "      <td>13</td>\n",
       "      <td>1.0</td>\n",
       "      <td>NA</td>\n",
       "      <td>0.0</td>\n",
       "      <td>1</td>\n",
       "    </tr>\n",
       "    <tr>\n",
       "      <th>3</th>\n",
       "      <td>3</td>\n",
       "      <td>2013-01-01</td>\n",
       "      <td>1</td>\n",
       "      <td>BEVERAGES</td>\n",
       "      <td>0.0</td>\n",
       "      <td>0</td>\n",
       "      <td>0.0</td>\n",
       "      <td>93.14</td>\n",
       "      <td>Quito</td>\n",
       "      <td>Pichincha</td>\n",
       "      <td>D</td>\n",
       "      <td>13</td>\n",
       "      <td>1.0</td>\n",
       "      <td>NA</td>\n",
       "      <td>0.0</td>\n",
       "      <td>1</td>\n",
       "    </tr>\n",
       "    <tr>\n",
       "      <th>4</th>\n",
       "      <td>4</td>\n",
       "      <td>2013-01-01</td>\n",
       "      <td>1</td>\n",
       "      <td>BOOKS</td>\n",
       "      <td>0.0</td>\n",
       "      <td>0</td>\n",
       "      <td>0.0</td>\n",
       "      <td>93.14</td>\n",
       "      <td>Quito</td>\n",
       "      <td>Pichincha</td>\n",
       "      <td>D</td>\n",
       "      <td>13</td>\n",
       "      <td>1.0</td>\n",
       "      <td>NA</td>\n",
       "      <td>0.0</td>\n",
       "      <td>1</td>\n",
       "    </tr>\n",
       "  </tbody>\n",
       "</table>\n",
       "</div>"
      ],
      "text/plain": [
       "   id       date  store_nbr      family  sales  onpromotion  transactions  \\\n",
       "0   0 2013-01-01          1  AUTOMOTIVE    0.0            0           0.0   \n",
       "1   1 2013-01-01          1   BABY CARE    0.0            0           0.0   \n",
       "2   2 2013-01-01          1      BEAUTY    0.0            0           0.0   \n",
       "3   3 2013-01-01          1   BEVERAGES    0.0            0           0.0   \n",
       "4   4 2013-01-01          1       BOOKS    0.0            0           0.0   \n",
       "\n",
       "   dcoilwtico   city      state type  cluster  is_national_holiday  \\\n",
       "0       93.14  Quito  Pichincha    D       13                  1.0   \n",
       "1       93.14  Quito  Pichincha    D       13                  1.0   \n",
       "2       93.14  Quito  Pichincha    D       13                  1.0   \n",
       "3       93.14  Quito  Pichincha    D       13                  1.0   \n",
       "4       93.14  Quito  Pichincha    D       13                  1.0   \n",
       "\n",
       "  locale_name  is_local_holiday  is_oil_high  \n",
       "0          NA               0.0            1  \n",
       "1          NA               0.0            1  \n",
       "2          NA               0.0            1  \n",
       "3          NA               0.0            1  \n",
       "4          NA               0.0            1  "
      ]
     },
     "execution_count": 95,
     "metadata": {},
     "output_type": "execute_result"
    }
   ],
   "source": [
    "train.head()"
   ]
  },
  {
   "cell_type": "code",
   "execution_count": 112,
   "id": "26ae04cd-fab4-4b3b-ae16-48328ea4b3bf",
   "metadata": {
    "tags": []
   },
   "outputs": [],
   "source": [
    "# features\n",
    "\n",
    "cat_columns = [\"store_nbr\", 'family', 'city', 'state', 'type', 'cluster']\n",
    "numerical_cols = [\"onpromotion\", 'is_national_holiday', 'is_local_holiday', 'is_oil_high']\n",
    "target = \"sales\""
   ]
  },
  {
   "cell_type": "code",
   "execution_count": 113,
   "id": "556a3ade-2ef6-4bcd-805f-4429fe07aec2",
   "metadata": {
    "tags": []
   },
   "outputs": [],
   "source": [
    "from sklearn.ensemble import RandomForestRegressor\n",
    "from sklearn.preprocessing import LabelEncoder"
   ]
  },
  {
   "cell_type": "code",
   "execution_count": 114,
   "id": "32ef85f3-3d33-4d60-8ab1-02b40a3b46f1",
   "metadata": {
    "tags": []
   },
   "outputs": [],
   "source": [
    "d = {}\n",
    "for col in cat_columns:\n",
    "    d[col] = LabelEncoder()\n",
    "    train[col] = d[col].fit_transform(train[col])\n",
    "    test[col] = d[col].transform(test[col])"
   ]
  },
  {
   "cell_type": "code",
   "execution_count": 115,
   "id": "6fdc1e62-a003-4c02-a59a-217b7a9d30d1",
   "metadata": {
    "tags": []
   },
   "outputs": [
    {
     "data": {
      "text/html": [
       "<style>#sk-container-id-5 {color: black;}#sk-container-id-5 pre{padding: 0;}#sk-container-id-5 div.sk-toggleable {background-color: white;}#sk-container-id-5 label.sk-toggleable__label {cursor: pointer;display: block;width: 100%;margin-bottom: 0;padding: 0.3em;box-sizing: border-box;text-align: center;}#sk-container-id-5 label.sk-toggleable__label-arrow:before {content: \"▸\";float: left;margin-right: 0.25em;color: #696969;}#sk-container-id-5 label.sk-toggleable__label-arrow:hover:before {color: black;}#sk-container-id-5 div.sk-estimator:hover label.sk-toggleable__label-arrow:before {color: black;}#sk-container-id-5 div.sk-toggleable__content {max-height: 0;max-width: 0;overflow: hidden;text-align: left;background-color: #f0f8ff;}#sk-container-id-5 div.sk-toggleable__content pre {margin: 0.2em;color: black;border-radius: 0.25em;background-color: #f0f8ff;}#sk-container-id-5 input.sk-toggleable__control:checked~div.sk-toggleable__content {max-height: 200px;max-width: 100%;overflow: auto;}#sk-container-id-5 input.sk-toggleable__control:checked~label.sk-toggleable__label-arrow:before {content: \"▾\";}#sk-container-id-5 div.sk-estimator input.sk-toggleable__control:checked~label.sk-toggleable__label {background-color: #d4ebff;}#sk-container-id-5 div.sk-label input.sk-toggleable__control:checked~label.sk-toggleable__label {background-color: #d4ebff;}#sk-container-id-5 input.sk-hidden--visually {border: 0;clip: rect(1px 1px 1px 1px);clip: rect(1px, 1px, 1px, 1px);height: 1px;margin: -1px;overflow: hidden;padding: 0;position: absolute;width: 1px;}#sk-container-id-5 div.sk-estimator {font-family: monospace;background-color: #f0f8ff;border: 1px dotted black;border-radius: 0.25em;box-sizing: border-box;margin-bottom: 0.5em;}#sk-container-id-5 div.sk-estimator:hover {background-color: #d4ebff;}#sk-container-id-5 div.sk-parallel-item::after {content: \"\";width: 100%;border-bottom: 1px solid gray;flex-grow: 1;}#sk-container-id-5 div.sk-label:hover label.sk-toggleable__label {background-color: #d4ebff;}#sk-container-id-5 div.sk-serial::before {content: \"\";position: absolute;border-left: 1px solid gray;box-sizing: border-box;top: 0;bottom: 0;left: 50%;z-index: 0;}#sk-container-id-5 div.sk-serial {display: flex;flex-direction: column;align-items: center;background-color: white;padding-right: 0.2em;padding-left: 0.2em;position: relative;}#sk-container-id-5 div.sk-item {position: relative;z-index: 1;}#sk-container-id-5 div.sk-parallel {display: flex;align-items: stretch;justify-content: center;background-color: white;position: relative;}#sk-container-id-5 div.sk-item::before, #sk-container-id-5 div.sk-parallel-item::before {content: \"\";position: absolute;border-left: 1px solid gray;box-sizing: border-box;top: 0;bottom: 0;left: 50%;z-index: -1;}#sk-container-id-5 div.sk-parallel-item {display: flex;flex-direction: column;z-index: 1;position: relative;background-color: white;}#sk-container-id-5 div.sk-parallel-item:first-child::after {align-self: flex-end;width: 50%;}#sk-container-id-5 div.sk-parallel-item:last-child::after {align-self: flex-start;width: 50%;}#sk-container-id-5 div.sk-parallel-item:only-child::after {width: 0;}#sk-container-id-5 div.sk-dashed-wrapped {border: 1px dashed gray;margin: 0 0.4em 0.5em 0.4em;box-sizing: border-box;padding-bottom: 0.4em;background-color: white;}#sk-container-id-5 div.sk-label label {font-family: monospace;font-weight: bold;display: inline-block;line-height: 1.2em;}#sk-container-id-5 div.sk-label-container {text-align: center;}#sk-container-id-5 div.sk-container {/* jupyter's `normalize.less` sets `[hidden] { display: none; }` but bootstrap.min.css set `[hidden] { display: none !important; }` so we also need the `!important` here to be able to override the default hidden behavior on the sphinx rendered scikit-learn.org. See: https://github.com/scikit-learn/scikit-learn/issues/21755 */display: inline-block !important;position: relative;}#sk-container-id-5 div.sk-text-repr-fallback {display: none;}</style><div id=\"sk-container-id-5\" class=\"sk-top-container\"><div class=\"sk-text-repr-fallback\"><pre>RandomForestRegressor(n_estimators=10, n_jobs=-1)</pre><b>In a Jupyter environment, please rerun this cell to show the HTML representation or trust the notebook. <br />On GitHub, the HTML representation is unable to render, please try loading this page with nbviewer.org.</b></div><div class=\"sk-container\" hidden><div class=\"sk-item\"><div class=\"sk-estimator sk-toggleable\"><input class=\"sk-toggleable__control sk-hidden--visually\" id=\"sk-estimator-id-5\" type=\"checkbox\" checked><label for=\"sk-estimator-id-5\" class=\"sk-toggleable__label sk-toggleable__label-arrow\">RandomForestRegressor</label><div class=\"sk-toggleable__content\"><pre>RandomForestRegressor(n_estimators=10, n_jobs=-1)</pre></div></div></div></div></div>"
      ],
      "text/plain": [
       "RandomForestRegressor(n_estimators=10, n_jobs=-1)"
      ]
     },
     "execution_count": 115,
     "metadata": {},
     "output_type": "execute_result"
    }
   ],
   "source": [
    "model = RandomForestRegressor(n_estimators=10, n_jobs=-1)\n",
    "model.fit(train[cat_columns + numerical_cols], train[target])"
   ]
  },
  {
   "cell_type": "code",
   "execution_count": 116,
   "id": "e589a925-366a-4879-86db-a032ba4ad2af",
   "metadata": {
    "tags": []
   },
   "outputs": [],
   "source": [
    "test_preds = model.predict(test[cat_columns + numerical_cols])"
   ]
  },
  {
   "cell_type": "code",
   "execution_count": 117,
   "id": "2e831ddc-b568-439d-8796-54f0da73a243",
   "metadata": {},
   "outputs": [],
   "source": [
    "# error we will be using is RMSE\n",
    "\n",
    "# calculate RMSE between test_preds and test[target] and report the RMSE\n",
    "\n",
    "from sklearn.metrics import mean_squared_log_error\n",
    "\n",
    "score = mean_squared_log_error(y_true=test[target] , y_pred=test_preds)"
   ]
  },
  {
   "cell_type": "markdown",
   "id": "ea3003bc-61eb-44ca-b8e4-c82ce3dd1081",
   "metadata": {},
   "source": [
    "1. rmsle without oil price raw feature - 0.5253744189217323\n",
    "1. rmsle with oil price as raw feature - 0.650\n",
    "1. rmsle with feature engineered oil price feature ( > 70, <=70) - 0.46217462375578755\n"
   ]
  },
  {
   "cell_type": "code",
   "execution_count": 84,
   "id": "f54178fd-ee13-44a7-b6f2-1280527d62d8",
   "metadata": {
    "tags": []
   },
   "outputs": [
    {
     "data": {
      "image/png": "[encoded data removed]",
      "text/plain": [
       "<Figure size 640x480 with 1 Axes>"
      ]
     },
     "metadata": {},
     "output_type": "display_data"
    }
   ],
   "source": [
    "features = cat_columns + numerical_cols\n",
    "importances = model.feature_importances_\n",
    "indices = np.argsort(importances)\n",
    "\n",
    "plt.title('Feature Importances')\n",
    "plt.barh(range(len(indices)), importances[indices], color='b', align='center')\n",
    "plt.yticks(range(len(indices)), [features[i] for i in indices])\n",
    "plt.xlabel('Relative Importance')\n",
    "plt.show()\n",
    "\n",
    "# ref - https://stackoverflow.com/questions/44101458/random-forest-feature-importance-chart-using-python"
   ]
  },
  {
   "cell_type": "markdown",
   "id": "0e6284d7-c431-418d-8139-c2ddc8401888",
   "metadata": {},
   "source": [
    "– Find significant variables and intuitively explain their effects (Analysis \n",
    "result)\n",
    "\n",
    "Significant variables according to random forest feature importances are family and onpromotion.\n",
    "\n",
    "For the family feature - 30% of the total sales is from Grocery, 20% of the sales is from beverages and 11% of the sales is from produce.\n",
    "\n",
    "\n",
    "For the onpromotion feature - \n",
    "Interestingly total number of items in a product family that are being promoted has negative impact on total sales.\n",
    "\n",
    "\n"
   ]
  },
  {
   "cell_type": "code",
   "execution_count": 62,
   "id": "0f6343df-cafd-413f-ba30-dfde34bc6cb0",
   "metadata": {
    "tags": []
   },
   "outputs": [],
   "source": [
    "family_effect = data.groupby(['family']).agg({'sales': 'sum'})\n",
    "sum_ = family_effect['sales'].sum()\n",
    "family_effect.sales = round(family_effect.sales * 100 /sum_, 5)\n",
    "family_effect = family_effect.sort_values(by='sales', ascending=False)"
   ]
  },
  {
   "cell_type": "code",
   "execution_count": 64,
   "id": "a69f710f-f79b-431b-9604-1e8cfec9d67d",
   "metadata": {
    "tags": []
   },
   "outputs": [
    {
     "data": {
      "text/html": [
       "<div>\n",
       "<style scoped>\n",
       "    .dataframe tbody tr th:only-of-type {\n",
       "        vertical-align: middle;\n",
       "    }\n",
       "\n",
       "    .dataframe tbody tr th {\n",
       "        vertical-align: top;\n",
       "    }\n",
       "\n",
       "    .dataframe thead th {\n",
       "        text-align: right;\n",
       "    }\n",
       "</style>\n",
       "<table border=\"1\" class=\"dataframe\">\n",
       "  <thead>\n",
       "    <tr style=\"text-align: right;\">\n",
       "      <th></th>\n",
       "      <th>sales</th>\n",
       "    </tr>\n",
       "    <tr>\n",
       "      <th>family</th>\n",
       "      <th></th>\n",
       "    </tr>\n",
       "  </thead>\n",
       "  <tbody>\n",
       "    <tr>\n",
       "      <th>GROCERY I</th>\n",
       "      <td>31.99035</td>\n",
       "    </tr>\n",
       "    <tr>\n",
       "      <th>BEVERAGES</th>\n",
       "      <td>20.20728</td>\n",
       "    </tr>\n",
       "    <tr>\n",
       "      <th>PRODUCE</th>\n",
       "      <td>11.42880</td>\n",
       "    </tr>\n",
       "    <tr>\n",
       "      <th>CLEANING</th>\n",
       "      <td>9.08320</td>\n",
       "    </tr>\n",
       "    <tr>\n",
       "      <th>DAIRY</th>\n",
       "      <td>6.00643</td>\n",
       "    </tr>\n",
       "    <tr>\n",
       "      <th>BREAD/BAKERY</th>\n",
       "      <td>3.92438</td>\n",
       "    </tr>\n",
       "    <tr>\n",
       "      <th>POULTRY</th>\n",
       "      <td>2.96895</td>\n",
       "    </tr>\n",
       "    <tr>\n",
       "      <th>MEATS</th>\n",
       "      <td>2.89541</td>\n",
       "    </tr>\n",
       "    <tr>\n",
       "      <th>PERSONAL CARE</th>\n",
       "      <td>2.29052</td>\n",
       "    </tr>\n",
       "    <tr>\n",
       "      <th>DELI</th>\n",
       "      <td>2.24565</td>\n",
       "    </tr>\n",
       "    <tr>\n",
       "      <th>HOME CARE</th>\n",
       "      <td>1.49237</td>\n",
       "    </tr>\n",
       "    <tr>\n",
       "      <th>EGGS</th>\n",
       "      <td>1.45190</td>\n",
       "    </tr>\n",
       "    <tr>\n",
       "      <th>FROZEN FOODS</th>\n",
       "      <td>1.31085</td>\n",
       "    </tr>\n",
       "    <tr>\n",
       "      <th>PREPARED FOODS</th>\n",
       "      <td>0.81963</td>\n",
       "    </tr>\n",
       "    <tr>\n",
       "      <th>LIQUOR,WINE,BEER</th>\n",
       "      <td>0.72153</td>\n",
       "    </tr>\n",
       "    <tr>\n",
       "      <th>SEAFOOD</th>\n",
       "      <td>0.18772</td>\n",
       "    </tr>\n",
       "    <tr>\n",
       "      <th>GROCERY II</th>\n",
       "      <td>0.18281</td>\n",
       "    </tr>\n",
       "    <tr>\n",
       "      <th>HOME AND KITCHEN I</th>\n",
       "      <td>0.17338</td>\n",
       "    </tr>\n",
       "    <tr>\n",
       "      <th>HOME AND KITCHEN II</th>\n",
       "      <td>0.14164</td>\n",
       "    </tr>\n",
       "    <tr>\n",
       "      <th>CELEBRATION</th>\n",
       "      <td>0.07090</td>\n",
       "    </tr>\n",
       "    <tr>\n",
       "      <th>LINGERIE</th>\n",
       "      <td>0.06083</td>\n",
       "    </tr>\n",
       "    <tr>\n",
       "      <th>LADIESWEAR</th>\n",
       "      <td>0.06065</td>\n",
       "    </tr>\n",
       "    <tr>\n",
       "      <th>PLAYERS AND ELECTRONICS</th>\n",
       "      <td>0.05240</td>\n",
       "    </tr>\n",
       "    <tr>\n",
       "      <th>AUTOMOTIVE</th>\n",
       "      <td>0.05168</td>\n",
       "    </tr>\n",
       "    <tr>\n",
       "      <th>LAWN AND GARDEN</th>\n",
       "      <td>0.05112</td>\n",
       "    </tr>\n",
       "    <tr>\n",
       "      <th>PET SUPPLIES</th>\n",
       "      <td>0.03321</td>\n",
       "    </tr>\n",
       "    <tr>\n",
       "      <th>BEAUTY</th>\n",
       "      <td>0.03147</td>\n",
       "    </tr>\n",
       "    <tr>\n",
       "      <th>SCHOOL AND OFFICE SUPPLIES</th>\n",
       "      <td>0.02508</td>\n",
       "    </tr>\n",
       "    <tr>\n",
       "      <th>MAGAZINES</th>\n",
       "      <td>0.02481</td>\n",
       "    </tr>\n",
       "    <tr>\n",
       "      <th>HARDWARE</th>\n",
       "      <td>0.00964</td>\n",
       "    </tr>\n",
       "    <tr>\n",
       "      <th>HOME APPLIANCES</th>\n",
       "      <td>0.00387</td>\n",
       "    </tr>\n",
       "    <tr>\n",
       "      <th>BABY CARE</th>\n",
       "      <td>0.00094</td>\n",
       "    </tr>\n",
       "    <tr>\n",
       "      <th>BOOKS</th>\n",
       "      <td>0.00060</td>\n",
       "    </tr>\n",
       "  </tbody>\n",
       "</table>\n",
       "</div>"
      ],
      "text/plain": [
       "                               sales\n",
       "family                              \n",
       "GROCERY I                   31.99035\n",
       "BEVERAGES                   20.20728\n",
       "PRODUCE                     11.42880\n",
       "CLEANING                     9.08320\n",
       "DAIRY                        6.00643\n",
       "BREAD/BAKERY                 3.92438\n",
       "POULTRY                      2.96895\n",
       "MEATS                        2.89541\n",
       "PERSONAL CARE                2.29052\n",
       "DELI                         2.24565\n",
       "HOME CARE                    1.49237\n",
       "EGGS                         1.45190\n",
       "FROZEN FOODS                 1.31085\n",
       "PREPARED FOODS               0.81963\n",
       "LIQUOR,WINE,BEER             0.72153\n",
       "SEAFOOD                      0.18772\n",
       "GROCERY II                   0.18281\n",
       "HOME AND KITCHEN I           0.17338\n",
       "HOME AND KITCHEN II          0.14164\n",
       "CELEBRATION                  0.07090\n",
       "LINGERIE                     0.06083\n",
       "LADIESWEAR                   0.06065\n",
       "PLAYERS AND ELECTRONICS      0.05240\n",
       "AUTOMOTIVE                   0.05168\n",
       "LAWN AND GARDEN              0.05112\n",
       "PET SUPPLIES                 0.03321\n",
       "BEAUTY                       0.03147\n",
       "SCHOOL AND OFFICE SUPPLIES   0.02508\n",
       "MAGAZINES                    0.02481\n",
       "HARDWARE                     0.00964\n",
       "HOME APPLIANCES              0.00387\n",
       "BABY CARE                    0.00094\n",
       "BOOKS                        0.00060"
      ]
     },
     "execution_count": 64,
     "metadata": {},
     "output_type": "execute_result"
    }
   ],
   "source": [
    "family_effect"
   ]
  },
  {
   "cell_type": "code",
   "execution_count": 66,
   "id": "78277d7f-44dd-49df-b634-cf2ecfc4561f",
   "metadata": {
    "tags": []
   },
   "outputs": [],
   "source": [
    "onpromotion_effect = data.groupby(['onpromotion']).agg({'sales': 'sum'})\n",
    "sum_ = onpromotion_effect['sales'].sum()\n",
    "onpromotion_effect.sales = round(onpromotion_effect.sales * 100 /sum_, 5)\n",
    "onpromotion_effect = onpromotion_effect.sort_values(by='sales', ascending=False)"
   ]
  },
  {
   "cell_type": "code",
   "execution_count": 68,
   "id": "87ce1999-0084-4982-8b30-b4d6ea1ba38e",
   "metadata": {
    "tags": []
   },
   "outputs": [
    {
     "data": {
      "text/plain": [
       "<Axes: xlabel='onpromotion'>"
      ]
     },
     "execution_count": 68,
     "metadata": {},
     "output_type": "execute_result"
    },
    {
     "data": {
      "image/png": "[encoded data removed]",
      "text/plain": [
       "<Figure size 640x480 with 1 Axes>"
      ]
     },
     "metadata": {},
     "output_type": "display_data"
    }
   ],
   "source": [
    "# onpromotion feature analysis\n",
    "_ = onpromotion_effect.plot()"
   ]
  },
  {
   "cell_type": "code",
   "execution_count": 108,
   "id": "4925d412-2984-40f7-acb1-a2d246b4f931",
   "metadata": {},
   "outputs": [
    {
     "data": {
      "image/png": "[encoded data removed]",
      "text/plain": [
       "<Figure size 640x480 with 1 Axes>"
      ]
     },
     "metadata": {},
     "output_type": "display_data"
    }
   ],
   "source": [
    "# box plot of oil price\n",
    "_ = plt.boxplot(data.dcoilwtico)"
   ]
  },
  {
   "cell_type": "markdown",
   "id": "0d3724c3-a147-46cc-a466-0de8504055f9",
   "metadata": {},
   "source": [
    "– Interesting discoveries (Selling points)\n",
    "\n",
    "Ecuador is an oil-dependent country and it's economical health is highly vulnerable to shocks in oil prices. But directly inclduing oil price as feature into the Random forest model did not improve RMSLE. \n",
    "Conducting feature engineering on the oil price column and establishing a binary feature by applying a threshold of 70, then incorporating this feature into the model, has resulted in an enhancement of the RMSLE. This highlights the significance of feature engineering.\n",
    "\n",
    "\n"
   ]
  },
  {
   "cell_type": "markdown",
   "id": "dba2c822-8686-44a1-b35d-a33afa9fcce7",
   "metadata": {},
   "source": [
    "– What you have learned from the real data analysis: data cleansing, missing data, data transformations, like normalization, taking log and adding square terms (Discussion)\n",
    "\n",
    "- data cleansing and handling missing data are the most time taking part.\n",
    "- Data transformations like normalization did not influence the performance of the Random Forest model. \n",
    "- Using RMSLE reduces the effect of outliers compared to RMSE."
   ]
  },
  {
   "cell_type": "code",
   "execution_count": null,
   "id": "78ec3fee-ee6e-412c-85b5-79c624fe7a84",
   "metadata": {},
   "outputs": [],
   "source": []
  }
 ],
 "metadata": {
  "kernelspec": {
   "display_name": "Python 3 (ipykernel)",
   "language": "python",
   "name": "python3"
  },
  "language_info": {
   "codemirror_mode": {
    "name": "ipython",
    "version": 3
   },
   "file_extension": ".py",
   "mimetype": "text/x-python",
   "name": "python",
   "nbconvert_exporter": "python",
   "pygments_lexer": "ipython3",
   "version": "3.11.4"
  }
 },
 "nbformat": 4,
 "nbformat_minor": 5
}
